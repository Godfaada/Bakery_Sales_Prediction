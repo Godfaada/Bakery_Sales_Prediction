{
 "cells": [
  {
   "cell_type": "markdown",
   "id": "a6fa7dfc",
   "metadata": {
    "papermill": {
     "duration": 0.005248,
     "end_time": "2025-07-28T19:05:02.074191",
     "exception": false,
     "start_time": "2025-07-28T19:05:02.068943",
     "status": "completed"
    },
    "tags": []
   },
   "source": [
    "# Model Definition and Evaluation\n",
    "## Table of Contents\n",
    "1. [Model Selection](#model-selection)\n",
    "2. [Feature Engineering](#feature-engineering)\n",
    "3. [Implementation](#implementation)\n",
    "4. [Evaluation Metrics](#evaluation-metrics)\n",
    "5. [Comparative Analysis](#comparative-analysis)"
   ]
  },
  {
   "cell_type": "code",
   "execution_count": 1,
   "id": "bfadc8ac",
   "metadata": {
    "execution": {
     "iopub.execute_input": "2025-07-28T19:05:02.084040Z",
     "iopub.status.busy": "2025-07-28T19:05:02.083629Z",
     "iopub.status.idle": "2025-07-28T19:05:25.578958Z",
     "shell.execute_reply": "2025-07-28T19:05:25.577914Z"
    },
    "papermill": {
     "duration": 23.502337,
     "end_time": "2025-07-28T19:05:25.580854",
     "exception": false,
     "start_time": "2025-07-28T19:05:02.078517",
     "status": "completed"
    },
    "tags": []
   },
   "outputs": [
    {
     "name": "stderr",
     "output_type": "stream",
     "text": [
      "2025-07-28 19:05:05.960706: E external/local_xla/xla/stream_executor/cuda/cuda_fft.cc:477] Unable to register cuFFT factory: Attempting to register factory for plugin cuFFT when one has already been registered\n",
      "WARNING: All log messages before absl::InitializeLog() is called are written to STDERR\n",
      "E0000 00:00:1753729506.217611      14 cuda_dnn.cc:8310] Unable to register cuDNN factory: Attempting to register factory for plugin cuDNN when one has already been registered\n",
      "E0000 00:00:1753729506.283284      14 cuda_blas.cc:1418] Unable to register cuBLAS factory: Attempting to register factory for plugin cuBLAS when one has already been registered\n"
     ]
    }
   ],
   "source": [
    "import pandas as pd\n",
    "import numpy as np\n",
    "from tensorflow.keras.layers import Dense, Dropout\n",
    "from sklearn.metrics import mean_absolute_percentage_error, mean_absolute_error, mean_squared_error, r2_score\n",
    "from tensorflow.keras import layers, Model\n",
    "from tensorflow.keras.optimizers import Adam\n",
    "import matplotlib.pyplot as plt\n",
    "import seaborn as sns\n",
    "from tensorflow.keras.models import Sequential\n",
    "import statsmodels.api as sm"
   ]
  },
  {
   "cell_type": "markdown",
   "id": "b2cc4d09",
   "metadata": {
    "papermill": {
     "duration": 0.003829,
     "end_time": "2025-07-28T19:05:25.589180",
     "exception": false,
     "start_time": "2025-07-28T19:05:25.585351",
     "status": "completed"
    },
    "tags": []
   },
   "source": [
    "## Model Selection\n",
    "\n",
    "- The model used is a feedforward neural network based on 12 input features.\n",
    "- The first hidden layer with 64 neurons and ReLU activation to capture non-linear patterns.\n",
    "- Then regularization to prevent overfitting by randomly deactivating 30% of neurons during training.\n",
    "- The second hidden layer with 32 neurons, also using ReLU.\n",
    "- Then regularization to prevent overfitting by randomly deactivating 20% of neurons during training.\n",
    "- Then an output layer for predicting a single continuous value of sales. \n",
    "\n",
    "The ReLU-activated dense layers can model non-linearities better than linear models.\n",
    "Dropout layers help prevent overfitting."
   ]
  },
  {
   "cell_type": "markdown",
   "id": "48569bf7",
   "metadata": {
    "papermill": {
     "duration": 0.003754,
     "end_time": "2025-07-28T19:05:25.596905",
     "exception": false,
     "start_time": "2025-07-28T19:05:25.593151",
     "status": "completed"
    },
    "tags": []
   },
   "source": [
    "## Feature Engineering"
   ]
  },
  {
   "cell_type": "code",
   "execution_count": 2,
   "id": "820811ad",
   "metadata": {
    "execution": {
     "iopub.execute_input": "2025-07-28T19:05:25.606690Z",
     "iopub.status.busy": "2025-07-28T19:05:25.606032Z",
     "iopub.status.idle": "2025-07-28T19:05:25.720215Z",
     "shell.execute_reply": "2025-07-28T19:05:25.719110Z"
    },
    "papermill": {
     "duration": 0.121678,
     "end_time": "2025-07-28T19:05:25.722503",
     "exception": false,
     "start_time": "2025-07-28T19:05:25.600825",
     "status": "completed"
    },
    "tags": []
   },
   "outputs": [],
   "source": [
    "X_train = pd.read_csv('/kaggle/input/bakery-sales-dataset-split/x_train.csv')\n",
    "Y_train = pd.read_csv('/kaggle/input/bakery-sales-dataset-split/y_train.csv')\n",
    "X_val = pd.read_csv('/kaggle/input/bakery-sales-dataset-split/x_val.csv')\n",
    "Y_val = pd.read_csv('/kaggle/input/bakery-sales-dataset-split/y_val.csv')\n",
    "\n",
    "df_validation_split = pd.read_csv('/kaggle/input/df-val/df_validation_split.csv')\n",
    "\n",
    "test_df = pd.read_csv('/kaggle/input/test-data/test_df_for_modeling.csv')\n",
    "test_id = pd.read_csv('/kaggle/input/test-data/test_id_for_modeling.csv')"
   ]
  },
  {
   "cell_type": "code",
   "execution_count": 3,
   "id": "abda092f",
   "metadata": {
    "execution": {
     "iopub.execute_input": "2025-07-28T19:05:25.732391Z",
     "iopub.status.busy": "2025-07-28T19:05:25.732049Z",
     "iopub.status.idle": "2025-07-28T19:05:25.739109Z",
     "shell.execute_reply": "2025-07-28T19:05:25.738028Z"
    },
    "papermill": {
     "duration": 0.013899,
     "end_time": "2025-07-28T19:05:25.740827",
     "exception": false,
     "start_time": "2025-07-28T19:05:25.726928",
     "status": "completed"
    },
    "tags": []
   },
   "outputs": [],
   "source": [
    "X_train_cnn = X_train.astype('float32').values\n",
    "X_val_cnn = X_val.astype('float32').values\n",
    "\n",
    "Y_train_cnn = Y_train.astype('float32').values\n",
    "Y_val_cnn = Y_val.astype('float32').values"
   ]
  },
  {
   "cell_type": "markdown",
   "id": "49fc1945",
   "metadata": {
    "papermill": {
     "duration": 0.003925,
     "end_time": "2025-07-28T19:05:25.748978",
     "exception": false,
     "start_time": "2025-07-28T19:05:25.745053",
     "status": "completed"
    },
    "tags": []
   },
   "source": [
    "## Implementation"
   ]
  },
  {
   "cell_type": "code",
   "execution_count": 4,
   "id": "e274017c",
   "metadata": {
    "execution": {
     "iopub.execute_input": "2025-07-28T19:05:25.758541Z",
     "iopub.status.busy": "2025-07-28T19:05:25.758200Z",
     "iopub.status.idle": "2025-07-28T19:05:25.893497Z",
     "shell.execute_reply": "2025-07-28T19:05:25.892622Z"
    },
    "papermill": {
     "duration": 0.14192,
     "end_time": "2025-07-28T19:05:25.894959",
     "exception": false,
     "start_time": "2025-07-28T19:05:25.753039",
     "status": "completed"
    },
    "tags": []
   },
   "outputs": [
    {
     "name": "stderr",
     "output_type": "stream",
     "text": [
      "/usr/local/lib/python3.11/dist-packages/keras/src/layers/core/dense.py:87: UserWarning: Do not pass an `input_shape`/`input_dim` argument to a layer. When using Sequential models, prefer using an `Input(shape)` object as the first layer in the model instead.\n",
      "  super().__init__(activity_regularizer=activity_regularizer, **kwargs)\n",
      "2025-07-28 19:05:25.767820: E external/local_xla/xla/stream_executor/cuda/cuda_driver.cc:152] failed call to cuInit: INTERNAL: CUDA error: Failed call to cuInit: UNKNOWN ERROR (303)\n"
     ]
    },
    {
     "data": {
      "text/html": [
       "<pre style=\"white-space:pre;overflow-x:auto;line-height:normal;font-family:Menlo,'DejaVu Sans Mono',consolas,'Courier New',monospace\"><span style=\"font-weight: bold\">Model: \"sequential\"</span>\n",
       "</pre>\n"
      ],
      "text/plain": [
       "\u001b[1mModel: \"sequential\"\u001b[0m\n"
      ]
     },
     "metadata": {},
     "output_type": "display_data"
    },
    {
     "data": {
      "text/html": [
       "<pre style=\"white-space:pre;overflow-x:auto;line-height:normal;font-family:Menlo,'DejaVu Sans Mono',consolas,'Courier New',monospace\">┏━━━━━━━━━━━━━━━━━━━━━━━━━━━━━━━━━┳━━━━━━━━━━━━━━━━━━━━━━━━┳━━━━━━━━━━━━━━━┓\n",
       "┃<span style=\"font-weight: bold\"> Layer (type)                    </span>┃<span style=\"font-weight: bold\"> Output Shape           </span>┃<span style=\"font-weight: bold\">       Param # </span>┃\n",
       "┡━━━━━━━━━━━━━━━━━━━━━━━━━━━━━━━━━╇━━━━━━━━━━━━━━━━━━━━━━━━╇━━━━━━━━━━━━━━━┩\n",
       "│ dense_1 (<span style=\"color: #0087ff; text-decoration-color: #0087ff\">Dense</span>)                 │ (<span style=\"color: #00d7ff; text-decoration-color: #00d7ff\">None</span>, <span style=\"color: #00af00; text-decoration-color: #00af00\">64</span>)             │           <span style=\"color: #00af00; text-decoration-color: #00af00\">832</span> │\n",
       "├─────────────────────────────────┼────────────────────────┼───────────────┤\n",
       "│ dropout (<span style=\"color: #0087ff; text-decoration-color: #0087ff\">Dropout</span>)               │ (<span style=\"color: #00d7ff; text-decoration-color: #00d7ff\">None</span>, <span style=\"color: #00af00; text-decoration-color: #00af00\">64</span>)             │             <span style=\"color: #00af00; text-decoration-color: #00af00\">0</span> │\n",
       "├─────────────────────────────────┼────────────────────────┼───────────────┤\n",
       "│ dense_2 (<span style=\"color: #0087ff; text-decoration-color: #0087ff\">Dense</span>)                 │ (<span style=\"color: #00d7ff; text-decoration-color: #00d7ff\">None</span>, <span style=\"color: #00af00; text-decoration-color: #00af00\">32</span>)             │         <span style=\"color: #00af00; text-decoration-color: #00af00\">2,080</span> │\n",
       "├─────────────────────────────────┼────────────────────────┼───────────────┤\n",
       "│ dropout_1 (<span style=\"color: #0087ff; text-decoration-color: #0087ff\">Dropout</span>)             │ (<span style=\"color: #00d7ff; text-decoration-color: #00d7ff\">None</span>, <span style=\"color: #00af00; text-decoration-color: #00af00\">32</span>)             │             <span style=\"color: #00af00; text-decoration-color: #00af00\">0</span> │\n",
       "├─────────────────────────────────┼────────────────────────┼───────────────┤\n",
       "│ output (<span style=\"color: #0087ff; text-decoration-color: #0087ff\">Dense</span>)                  │ (<span style=\"color: #00d7ff; text-decoration-color: #00d7ff\">None</span>, <span style=\"color: #00af00; text-decoration-color: #00af00\">1</span>)              │            <span style=\"color: #00af00; text-decoration-color: #00af00\">33</span> │\n",
       "└─────────────────────────────────┴────────────────────────┴───────────────┘\n",
       "</pre>\n"
      ],
      "text/plain": [
       "┏━━━━━━━━━━━━━━━━━━━━━━━━━━━━━━━━━┳━━━━━━━━━━━━━━━━━━━━━━━━┳━━━━━━━━━━━━━━━┓\n",
       "┃\u001b[1m \u001b[0m\u001b[1mLayer (type)                   \u001b[0m\u001b[1m \u001b[0m┃\u001b[1m \u001b[0m\u001b[1mOutput Shape          \u001b[0m\u001b[1m \u001b[0m┃\u001b[1m \u001b[0m\u001b[1m      Param #\u001b[0m\u001b[1m \u001b[0m┃\n",
       "┡━━━━━━━━━━━━━━━━━━━━━━━━━━━━━━━━━╇━━━━━━━━━━━━━━━━━━━━━━━━╇━━━━━━━━━━━━━━━┩\n",
       "│ dense_1 (\u001b[38;5;33mDense\u001b[0m)                 │ (\u001b[38;5;45mNone\u001b[0m, \u001b[38;5;34m64\u001b[0m)             │           \u001b[38;5;34m832\u001b[0m │\n",
       "├─────────────────────────────────┼────────────────────────┼───────────────┤\n",
       "│ dropout (\u001b[38;5;33mDropout\u001b[0m)               │ (\u001b[38;5;45mNone\u001b[0m, \u001b[38;5;34m64\u001b[0m)             │             \u001b[38;5;34m0\u001b[0m │\n",
       "├─────────────────────────────────┼────────────────────────┼───────────────┤\n",
       "│ dense_2 (\u001b[38;5;33mDense\u001b[0m)                 │ (\u001b[38;5;45mNone\u001b[0m, \u001b[38;5;34m32\u001b[0m)             │         \u001b[38;5;34m2,080\u001b[0m │\n",
       "├─────────────────────────────────┼────────────────────────┼───────────────┤\n",
       "│ dropout_1 (\u001b[38;5;33mDropout\u001b[0m)             │ (\u001b[38;5;45mNone\u001b[0m, \u001b[38;5;34m32\u001b[0m)             │             \u001b[38;5;34m0\u001b[0m │\n",
       "├─────────────────────────────────┼────────────────────────┼───────────────┤\n",
       "│ output (\u001b[38;5;33mDense\u001b[0m)                  │ (\u001b[38;5;45mNone\u001b[0m, \u001b[38;5;34m1\u001b[0m)              │            \u001b[38;5;34m33\u001b[0m │\n",
       "└─────────────────────────────────┴────────────────────────┴───────────────┘\n"
      ]
     },
     "metadata": {},
     "output_type": "display_data"
    },
    {
     "data": {
      "text/html": [
       "<pre style=\"white-space:pre;overflow-x:auto;line-height:normal;font-family:Menlo,'DejaVu Sans Mono',consolas,'Courier New',monospace\"><span style=\"font-weight: bold\"> Total params: </span><span style=\"color: #00af00; text-decoration-color: #00af00\">2,945</span> (11.50 KB)\n",
       "</pre>\n"
      ],
      "text/plain": [
       "\u001b[1m Total params: \u001b[0m\u001b[38;5;34m2,945\u001b[0m (11.50 KB)\n"
      ]
     },
     "metadata": {},
     "output_type": "display_data"
    },
    {
     "data": {
      "text/html": [
       "<pre style=\"white-space:pre;overflow-x:auto;line-height:normal;font-family:Menlo,'DejaVu Sans Mono',consolas,'Courier New',monospace\"><span style=\"font-weight: bold\"> Trainable params: </span><span style=\"color: #00af00; text-decoration-color: #00af00\">2,945</span> (11.50 KB)\n",
       "</pre>\n"
      ],
      "text/plain": [
       "\u001b[1m Trainable params: \u001b[0m\u001b[38;5;34m2,945\u001b[0m (11.50 KB)\n"
      ]
     },
     "metadata": {},
     "output_type": "display_data"
    },
    {
     "data": {
      "text/html": [
       "<pre style=\"white-space:pre;overflow-x:auto;line-height:normal;font-family:Menlo,'DejaVu Sans Mono',consolas,'Courier New',monospace\"><span style=\"font-weight: bold\"> Non-trainable params: </span><span style=\"color: #00af00; text-decoration-color: #00af00\">0</span> (0.00 B)\n",
       "</pre>\n"
      ],
      "text/plain": [
       "\u001b[1m Non-trainable params: \u001b[0m\u001b[38;5;34m0\u001b[0m (0.00 B)\n"
      ]
     },
     "metadata": {},
     "output_type": "display_data"
    }
   ],
   "source": [
    "model = Sequential([\n",
    "    Dense(64, activation='relu', input_shape=(12,), name='dense_1'),\n",
    "    Dropout(0.3),\n",
    "    Dense(32, activation='relu', name='dense_2'),\n",
    "    Dropout(0.2),\n",
    "    Dense(1, activation='linear', name='output') ]\n",
    ")\n",
    "\n",
    "\n",
    "model.compile(\n",
    "    optimizer='adam',\n",
    "    loss='mape',\n",
    "    metrics=['mape']\n",
    ")\n",
    "\n",
    "\n",
    "model.summary()"
   ]
  },
  {
   "cell_type": "code",
   "execution_count": 5,
   "id": "cc9c6f50",
   "metadata": {
    "execution": {
     "iopub.execute_input": "2025-07-28T19:05:25.907188Z",
     "iopub.status.busy": "2025-07-28T19:05:25.906887Z",
     "iopub.status.idle": "2025-07-28T19:06:06.658047Z",
     "shell.execute_reply": "2025-07-28T19:06:06.656767Z"
    },
    "papermill": {
     "duration": 40.759392,
     "end_time": "2025-07-28T19:06:06.660247",
     "exception": false,
     "start_time": "2025-07-28T19:05:25.900855",
     "status": "completed"
    },
    "tags": []
   },
   "outputs": [
    {
     "name": "stdout",
     "output_type": "stream",
     "text": [
      "Epoch 1/50\n",
      "\u001b[1m235/235\u001b[0m \u001b[32m━━━━━━━━━━━━━━━━━━━━\u001b[0m\u001b[37m\u001b[0m \u001b[1m3s\u001b[0m 4ms/step - loss: 94.5904 - mape: 94.5904 - val_loss: 43.7643 - val_mape: 43.7643\n",
      "Epoch 2/50\n",
      "\u001b[1m235/235\u001b[0m \u001b[32m━━━━━━━━━━━━━━━━━━━━\u001b[0m\u001b[37m\u001b[0m \u001b[1m1s\u001b[0m 3ms/step - loss: 43.1331 - mape: 43.1331 - val_loss: 28.4158 - val_mape: 28.4158\n",
      "Epoch 3/50\n",
      "\u001b[1m235/235\u001b[0m \u001b[32m━━━━━━━━━━━━━━━━━━━━\u001b[0m\u001b[37m\u001b[0m \u001b[1m1s\u001b[0m 3ms/step - loss: 30.7597 - mape: 30.7597 - val_loss: 24.4824 - val_mape: 24.4824\n",
      "Epoch 4/50\n",
      "\u001b[1m235/235\u001b[0m \u001b[32m━━━━━━━━━━━━━━━━━━━━\u001b[0m\u001b[37m\u001b[0m \u001b[1m1s\u001b[0m 3ms/step - loss: 28.0718 - mape: 28.0718 - val_loss: 23.6934 - val_mape: 23.6934\n",
      "Epoch 5/50\n",
      "\u001b[1m235/235\u001b[0m \u001b[32m━━━━━━━━━━━━━━━━━━━━\u001b[0m\u001b[37m\u001b[0m \u001b[1m1s\u001b[0m 3ms/step - loss: 27.1517 - mape: 27.1517 - val_loss: 23.3163 - val_mape: 23.3163\n",
      "Epoch 6/50\n",
      "\u001b[1m235/235\u001b[0m \u001b[32m━━━━━━━━━━━━━━━━━━━━\u001b[0m\u001b[37m\u001b[0m \u001b[1m1s\u001b[0m 3ms/step - loss: 26.2073 - mape: 26.2073 - val_loss: 23.0442 - val_mape: 23.0442\n",
      "Epoch 7/50\n",
      "\u001b[1m235/235\u001b[0m \u001b[32m━━━━━━━━━━━━━━━━━━━━\u001b[0m\u001b[37m\u001b[0m \u001b[1m1s\u001b[0m 3ms/step - loss: 26.4528 - mape: 26.4528 - val_loss: 22.7854 - val_mape: 22.7854\n",
      "Epoch 8/50\n",
      "\u001b[1m235/235\u001b[0m \u001b[32m━━━━━━━━━━━━━━━━━━━━\u001b[0m\u001b[37m\u001b[0m \u001b[1m1s\u001b[0m 3ms/step - loss: 26.0785 - mape: 26.0785 - val_loss: 22.3002 - val_mape: 22.3002\n",
      "Epoch 9/50\n",
      "\u001b[1m235/235\u001b[0m \u001b[32m━━━━━━━━━━━━━━━━━━━━\u001b[0m\u001b[37m\u001b[0m \u001b[1m1s\u001b[0m 3ms/step - loss: 26.3224 - mape: 26.3224 - val_loss: 22.2320 - val_mape: 22.2320\n",
      "Epoch 10/50\n",
      "\u001b[1m235/235\u001b[0m \u001b[32m━━━━━━━━━━━━━━━━━━━━\u001b[0m\u001b[37m\u001b[0m \u001b[1m1s\u001b[0m 3ms/step - loss: 25.2331 - mape: 25.2331 - val_loss: 21.9755 - val_mape: 21.9755\n",
      "Epoch 11/50\n",
      "\u001b[1m235/235\u001b[0m \u001b[32m━━━━━━━━━━━━━━━━━━━━\u001b[0m\u001b[37m\u001b[0m \u001b[1m1s\u001b[0m 3ms/step - loss: 25.1812 - mape: 25.1812 - val_loss: 21.7128 - val_mape: 21.7128\n",
      "Epoch 12/50\n",
      "\u001b[1m235/235\u001b[0m \u001b[32m━━━━━━━━━━━━━━━━━━━━\u001b[0m\u001b[37m\u001b[0m \u001b[1m1s\u001b[0m 3ms/step - loss: 24.5999 - mape: 24.5999 - val_loss: 21.4915 - val_mape: 21.4915\n",
      "Epoch 13/50\n",
      "\u001b[1m235/235\u001b[0m \u001b[32m━━━━━━━━━━━━━━━━━━━━\u001b[0m\u001b[37m\u001b[0m \u001b[1m1s\u001b[0m 3ms/step - loss: 24.9347 - mape: 24.9347 - val_loss: 21.4010 - val_mape: 21.4010\n",
      "Epoch 14/50\n",
      "\u001b[1m235/235\u001b[0m \u001b[32m━━━━━━━━━━━━━━━━━━━━\u001b[0m\u001b[37m\u001b[0m \u001b[1m1s\u001b[0m 3ms/step - loss: 24.8722 - mape: 24.8722 - val_loss: 21.1725 - val_mape: 21.1725\n",
      "Epoch 15/50\n",
      "\u001b[1m235/235\u001b[0m \u001b[32m━━━━━━━━━━━━━━━━━━━━\u001b[0m\u001b[37m\u001b[0m \u001b[1m1s\u001b[0m 3ms/step - loss: 24.2992 - mape: 24.2992 - val_loss: 21.1701 - val_mape: 21.1701\n",
      "Epoch 16/50\n",
      "\u001b[1m235/235\u001b[0m \u001b[32m━━━━━━━━━━━━━━━━━━━━\u001b[0m\u001b[37m\u001b[0m \u001b[1m1s\u001b[0m 3ms/step - loss: 24.1936 - mape: 24.1936 - val_loss: 21.3756 - val_mape: 21.3756\n",
      "Epoch 17/50\n",
      "\u001b[1m235/235\u001b[0m \u001b[32m━━━━━━━━━━━━━━━━━━━━\u001b[0m\u001b[37m\u001b[0m \u001b[1m1s\u001b[0m 3ms/step - loss: 24.4680 - mape: 24.4680 - val_loss: 20.9190 - val_mape: 20.9190\n",
      "Epoch 18/50\n",
      "\u001b[1m235/235\u001b[0m \u001b[32m━━━━━━━━━━━━━━━━━━━━\u001b[0m\u001b[37m\u001b[0m \u001b[1m1s\u001b[0m 3ms/step - loss: 24.8652 - mape: 24.8652 - val_loss: 20.7774 - val_mape: 20.7774\n",
      "Epoch 19/50\n",
      "\u001b[1m235/235\u001b[0m \u001b[32m━━━━━━━━━━━━━━━━━━━━\u001b[0m\u001b[37m\u001b[0m \u001b[1m1s\u001b[0m 3ms/step - loss: 24.1872 - mape: 24.1872 - val_loss: 20.8158 - val_mape: 20.8158\n",
      "Epoch 20/50\n",
      "\u001b[1m235/235\u001b[0m \u001b[32m━━━━━━━━━━━━━━━━━━━━\u001b[0m\u001b[37m\u001b[0m \u001b[1m1s\u001b[0m 3ms/step - loss: 23.9962 - mape: 23.9962 - val_loss: 20.4501 - val_mape: 20.4501\n",
      "Epoch 21/50\n",
      "\u001b[1m235/235\u001b[0m \u001b[32m━━━━━━━━━━━━━━━━━━━━\u001b[0m\u001b[37m\u001b[0m \u001b[1m1s\u001b[0m 3ms/step - loss: 24.1714 - mape: 24.1714 - val_loss: 20.3303 - val_mape: 20.3303\n",
      "Epoch 22/50\n",
      "\u001b[1m235/235\u001b[0m \u001b[32m━━━━━━━━━━━━━━━━━━━━\u001b[0m\u001b[37m\u001b[0m \u001b[1m1s\u001b[0m 3ms/step - loss: 24.0074 - mape: 24.0074 - val_loss: 20.2074 - val_mape: 20.2074\n",
      "Epoch 23/50\n",
      "\u001b[1m235/235\u001b[0m \u001b[32m━━━━━━━━━━━━━━━━━━━━\u001b[0m\u001b[37m\u001b[0m \u001b[1m1s\u001b[0m 3ms/step - loss: 24.0006 - mape: 24.0006 - val_loss: 20.1145 - val_mape: 20.1145\n",
      "Epoch 24/50\n",
      "\u001b[1m235/235\u001b[0m \u001b[32m━━━━━━━━━━━━━━━━━━━━\u001b[0m\u001b[37m\u001b[0m \u001b[1m1s\u001b[0m 3ms/step - loss: 24.0549 - mape: 24.0549 - val_loss: 20.1859 - val_mape: 20.1859\n",
      "Epoch 25/50\n",
      "\u001b[1m235/235\u001b[0m \u001b[32m━━━━━━━━━━━━━━━━━━━━\u001b[0m\u001b[37m\u001b[0m \u001b[1m1s\u001b[0m 3ms/step - loss: 23.6559 - mape: 23.6559 - val_loss: 20.1474 - val_mape: 20.1474\n",
      "Epoch 26/50\n",
      "\u001b[1m235/235\u001b[0m \u001b[32m━━━━━━━━━━━━━━━━━━━━\u001b[0m\u001b[37m\u001b[0m \u001b[1m1s\u001b[0m 3ms/step - loss: 23.9165 - mape: 23.9165 - val_loss: 19.8589 - val_mape: 19.8589\n",
      "Epoch 27/50\n",
      "\u001b[1m235/235\u001b[0m \u001b[32m━━━━━━━━━━━━━━━━━━━━\u001b[0m\u001b[37m\u001b[0m \u001b[1m1s\u001b[0m 3ms/step - loss: 23.6132 - mape: 23.6132 - val_loss: 19.8179 - val_mape: 19.8179\n",
      "Epoch 28/50\n",
      "\u001b[1m235/235\u001b[0m \u001b[32m━━━━━━━━━━━━━━━━━━━━\u001b[0m\u001b[37m\u001b[0m \u001b[1m1s\u001b[0m 3ms/step - loss: 23.3062 - mape: 23.3062 - val_loss: 19.8519 - val_mape: 19.8519\n",
      "Epoch 29/50\n",
      "\u001b[1m235/235\u001b[0m \u001b[32m━━━━━━━━━━━━━━━━━━━━\u001b[0m\u001b[37m\u001b[0m \u001b[1m1s\u001b[0m 3ms/step - loss: 23.4790 - mape: 23.4790 - val_loss: 19.8512 - val_mape: 19.8512\n",
      "Epoch 30/50\n",
      "\u001b[1m235/235\u001b[0m \u001b[32m━━━━━━━━━━━━━━━━━━━━\u001b[0m\u001b[37m\u001b[0m \u001b[1m1s\u001b[0m 3ms/step - loss: 23.4375 - mape: 23.4375 - val_loss: 19.7386 - val_mape: 19.7386\n",
      "Epoch 31/50\n",
      "\u001b[1m235/235\u001b[0m \u001b[32m━━━━━━━━━━━━━━━━━━━━\u001b[0m\u001b[37m\u001b[0m \u001b[1m1s\u001b[0m 3ms/step - loss: 23.2903 - mape: 23.2903 - val_loss: 19.6503 - val_mape: 19.6503\n",
      "Epoch 32/50\n",
      "\u001b[1m235/235\u001b[0m \u001b[32m━━━━━━━━━━━━━━━━━━━━\u001b[0m\u001b[37m\u001b[0m \u001b[1m1s\u001b[0m 3ms/step - loss: 23.2980 - mape: 23.2980 - val_loss: 19.6033 - val_mape: 19.6033\n",
      "Epoch 33/50\n",
      "\u001b[1m235/235\u001b[0m \u001b[32m━━━━━━━━━━━━━━━━━━━━\u001b[0m\u001b[37m\u001b[0m \u001b[1m1s\u001b[0m 3ms/step - loss: 22.9253 - mape: 22.9253 - val_loss: 19.6898 - val_mape: 19.6898\n",
      "Epoch 34/50\n",
      "\u001b[1m235/235\u001b[0m \u001b[32m━━━━━━━━━━━━━━━━━━━━\u001b[0m\u001b[37m\u001b[0m \u001b[1m1s\u001b[0m 3ms/step - loss: 23.0287 - mape: 23.0287 - val_loss: 19.3706 - val_mape: 19.3706\n",
      "Epoch 35/50\n",
      "\u001b[1m235/235\u001b[0m \u001b[32m━━━━━━━━━━━━━━━━━━━━\u001b[0m\u001b[37m\u001b[0m \u001b[1m1s\u001b[0m 3ms/step - loss: 23.1776 - mape: 23.1776 - val_loss: 19.5104 - val_mape: 19.5104\n",
      "Epoch 36/50\n",
      "\u001b[1m235/235\u001b[0m \u001b[32m━━━━━━━━━━━━━━━━━━━━\u001b[0m\u001b[37m\u001b[0m \u001b[1m1s\u001b[0m 3ms/step - loss: 23.1371 - mape: 23.1371 - val_loss: 19.4751 - val_mape: 19.4751\n",
      "Epoch 37/50\n",
      "\u001b[1m235/235\u001b[0m \u001b[32m━━━━━━━━━━━━━━━━━━━━\u001b[0m\u001b[37m\u001b[0m \u001b[1m1s\u001b[0m 3ms/step - loss: 22.5613 - mape: 22.5613 - val_loss: 19.4372 - val_mape: 19.4372\n",
      "Epoch 38/50\n",
      "\u001b[1m235/235\u001b[0m \u001b[32m━━━━━━━━━━━━━━━━━━━━\u001b[0m\u001b[37m\u001b[0m \u001b[1m1s\u001b[0m 3ms/step - loss: 22.7206 - mape: 22.7206 - val_loss: 19.6337 - val_mape: 19.6337\n",
      "Epoch 39/50\n",
      "\u001b[1m235/235\u001b[0m \u001b[32m━━━━━━━━━━━━━━━━━━━━\u001b[0m\u001b[37m\u001b[0m \u001b[1m1s\u001b[0m 3ms/step - loss: 22.5038 - mape: 22.5038 - val_loss: 19.5045 - val_mape: 19.5045\n",
      "Epoch 40/50\n",
      "\u001b[1m235/235\u001b[0m \u001b[32m━━━━━━━━━━━━━━━━━━━━\u001b[0m\u001b[37m\u001b[0m \u001b[1m1s\u001b[0m 3ms/step - loss: 22.9643 - mape: 22.9643 - val_loss: 19.4978 - val_mape: 19.4978\n",
      "Epoch 41/50\n",
      "\u001b[1m235/235\u001b[0m \u001b[32m━━━━━━━━━━━━━━━━━━━━\u001b[0m\u001b[37m\u001b[0m \u001b[1m1s\u001b[0m 3ms/step - loss: 22.7554 - mape: 22.7554 - val_loss: 19.2843 - val_mape: 19.2843\n",
      "Epoch 42/50\n",
      "\u001b[1m235/235\u001b[0m \u001b[32m━━━━━━━━━━━━━━━━━━━━\u001b[0m\u001b[37m\u001b[0m \u001b[1m1s\u001b[0m 3ms/step - loss: 22.6344 - mape: 22.6344 - val_loss: 19.4148 - val_mape: 19.4148\n",
      "Epoch 43/50\n",
      "\u001b[1m235/235\u001b[0m \u001b[32m━━━━━━━━━━━━━━━━━━━━\u001b[0m\u001b[37m\u001b[0m \u001b[1m1s\u001b[0m 3ms/step - loss: 22.9628 - mape: 22.9628 - val_loss: 19.3840 - val_mape: 19.3840\n",
      "Epoch 44/50\n",
      "\u001b[1m235/235\u001b[0m \u001b[32m━━━━━━━━━━━━━━━━━━━━\u001b[0m\u001b[37m\u001b[0m \u001b[1m1s\u001b[0m 3ms/step - loss: 22.6428 - mape: 22.6428 - val_loss: 19.2043 - val_mape: 19.2043\n",
      "Epoch 45/50\n",
      "\u001b[1m235/235\u001b[0m \u001b[32m━━━━━━━━━━━━━━━━━━━━\u001b[0m\u001b[37m\u001b[0m \u001b[1m1s\u001b[0m 3ms/step - loss: 22.6460 - mape: 22.6460 - val_loss: 19.2316 - val_mape: 19.2316\n",
      "Epoch 46/50\n",
      "\u001b[1m235/235\u001b[0m \u001b[32m━━━━━━━━━━━━━━━━━━━━\u001b[0m\u001b[37m\u001b[0m \u001b[1m1s\u001b[0m 3ms/step - loss: 22.4952 - mape: 22.4952 - val_loss: 19.3679 - val_mape: 19.3679\n",
      "Epoch 47/50\n",
      "\u001b[1m235/235\u001b[0m \u001b[32m━━━━━━━━━━━━━━━━━━━━\u001b[0m\u001b[37m\u001b[0m \u001b[1m1s\u001b[0m 3ms/step - loss: 22.5644 - mape: 22.5644 - val_loss: 19.2525 - val_mape: 19.2525\n",
      "Epoch 48/50\n",
      "\u001b[1m235/235\u001b[0m \u001b[32m━━━━━━━━━━━━━━━━━━━━\u001b[0m\u001b[37m\u001b[0m \u001b[1m1s\u001b[0m 3ms/step - loss: 22.5093 - mape: 22.5093 - val_loss: 19.2708 - val_mape: 19.2708\n",
      "Epoch 49/50\n",
      "\u001b[1m235/235\u001b[0m \u001b[32m━━━━━━━━━━━━━━━━━━━━\u001b[0m\u001b[37m\u001b[0m \u001b[1m1s\u001b[0m 3ms/step - loss: 22.5809 - mape: 22.5809 - val_loss: 19.1843 - val_mape: 19.1843\n",
      "Epoch 50/50\n",
      "\u001b[1m235/235\u001b[0m \u001b[32m━━━━━━━━━━━━━━━━━━━━\u001b[0m\u001b[37m\u001b[0m \u001b[1m1s\u001b[0m 3ms/step - loss: 22.6333 - mape: 22.6333 - val_loss: 19.2390 - val_mape: 19.2390\n"
     ]
    }
   ],
   "source": [
    "history = model.fit(\n",
    "    X_train_cnn,\n",
    "    Y_train_cnn,\n",
    "    validation_data=(X_val_cnn, Y_val_cnn),\n",
    "    epochs=50,\n",
    "    batch_size=32,\n",
    "    verbose=1\n",
    ")"
   ]
  },
  {
   "cell_type": "markdown",
   "id": "1c2538e0",
   "metadata": {
    "papermill": {
     "duration": 0.038865,
     "end_time": "2025-07-28T19:06:06.738338",
     "exception": false,
     "start_time": "2025-07-28T19:06:06.699473",
     "status": "completed"
    },
    "tags": []
   },
   "source": [
    "## Evaluation Metrics\n",
    "\n",
    "**Metrics used: R² and MAPE**"
   ]
  },
  {
   "cell_type": "code",
   "execution_count": 6,
   "id": "a4b450fa",
   "metadata": {
    "execution": {
     "iopub.execute_input": "2025-07-28T19:06:06.818749Z",
     "iopub.status.busy": "2025-07-28T19:06:06.818313Z",
     "iopub.status.idle": "2025-07-28T19:06:07.155190Z",
     "shell.execute_reply": "2025-07-28T19:06:07.154218Z"
    },
    "papermill": {
     "duration": 0.37916,
     "end_time": "2025-07-28T19:06:07.157021",
     "exception": false,
     "start_time": "2025-07-28T19:06:06.777861",
     "status": "completed"
    },
    "tags": []
   },
   "outputs": [
    {
     "name": "stdout",
     "output_type": "stream",
     "text": [
      "\u001b[1m58/58\u001b[0m \u001b[32m━━━━━━━━━━━━━━━━━━━━\u001b[0m\u001b[37m\u001b[0m \u001b[1m0s\u001b[0m 3ms/step\n",
      "Validation MAPE: 0.19\n"
     ]
    }
   ],
   "source": [
    "y_pred_cnn = model.predict(X_val_cnn)\n",
    "\n",
    "mape = mean_absolute_percentage_error(Y_val_cnn, y_pred_cnn)\n",
    "\n",
    "print(f\"Validation MAPE: {mape:.2f}\")"
   ]
  },
  {
   "cell_type": "code",
   "execution_count": 7,
   "id": "a78f678f",
   "metadata": {
    "execution": {
     "iopub.execute_input": "2025-07-28T19:06:07.314250Z",
     "iopub.status.busy": "2025-07-28T19:06:07.313934Z",
     "iopub.status.idle": "2025-07-28T19:06:07.355104Z",
     "shell.execute_reply": "2025-07-28T19:06:07.353664Z"
    },
    "papermill": {
     "duration": 0.083385,
     "end_time": "2025-07-28T19:06:07.356817",
     "exception": false,
     "start_time": "2025-07-28T19:06:07.273432",
     "status": "completed"
    },
    "tags": []
   },
   "outputs": [
    {
     "name": "stdout",
     "output_type": "stream",
     "text": [
      "Validation MAPE per Product Group:\n",
      "product_group\n",
      "Warengruppe_1    0.200633\n",
      "Warengruppe_2    0.161239\n",
      "Warengruppe_3    0.193729\n",
      "Warengruppe_4    0.216919\n",
      "Warengruppe_5    0.143523\n",
      "Warengruppe_6    0.485033\n",
      "dtype: float32\n"
     ]
    },
    {
     "name": "stderr",
     "output_type": "stream",
     "text": [
      "/tmp/ipykernel_14/2579397162.py:26: DeprecationWarning: DataFrameGroupBy.apply operated on the grouping columns. This behavior is deprecated, and in a future version of pandas the grouping columns will be excluded from the operation. Either pass `include_groups=False` to exclude the groupings or explicitly select the grouping columns after groupby to silence this warning.\n",
      "  mape_per_group = val_results.groupby('product_group', group_keys=False).apply(\n"
     ]
    }
   ],
   "source": [
    "import pandas as pd\n",
    "from sklearn.metrics import mean_absolute_percentage_error\n",
    "\n",
    "# Create a DataFrame with predictions and true values\n",
    "val_results = pd.DataFrame({\n",
    "    'y_true': Y_val_cnn.flatten(),\n",
    "    'y_pred': y_pred_cnn.flatten()\n",
    "})\n",
    "\n",
    "# Define product group one-hot columns\n",
    "one_hot_cols = [\n",
    "    'Warengruppe_1', 'Warengruppe_2', 'Warengruppe_3',\n",
    "    'Warengruppe_4', 'Warengruppe_5', 'Warengruppe_6'\n",
    "]\n",
    "\n",
    "# Add one-hot encoded product group columns from df_validation_split\n",
    "val_results[one_hot_cols] = df_validation_split[one_hot_cols].reset_index(drop=True)\n",
    "\n",
    "# Decode the one-hot to actual product group\n",
    "val_results['product_group'] = val_results[one_hot_cols].idxmax(axis=1)\n",
    "\n",
    "# Clean up group names (remove '#', if present)\n",
    "val_results['product_group'] = val_results['product_group'].str.replace('#', '', regex=False)\n",
    "\n",
    "# Compute MAPE per product group\n",
    "mape_per_group = val_results.groupby('product_group', group_keys=False).apply(\n",
    "    lambda g: mean_absolute_percentage_error(g['y_true'], g['y_pred'])\n",
    ")\n",
    "\n",
    "\n",
    "#  Display result\n",
    "print(\"Validation MAPE per Product Group:\")\n",
    "print(mape_per_group)"
   ]
  },
  {
   "cell_type": "code",
   "execution_count": 8,
   "id": "0af76110",
   "metadata": {
    "execution": {
     "iopub.execute_input": "2025-07-28T19:06:07.439139Z",
     "iopub.status.busy": "2025-07-28T19:06:07.438785Z",
     "iopub.status.idle": "2025-07-28T19:06:07.795869Z",
     "shell.execute_reply": "2025-07-28T19:06:07.794821Z"
    },
    "papermill": {
     "duration": 0.399819,
     "end_time": "2025-07-28T19:06:07.797676",
     "exception": false,
     "start_time": "2025-07-28T19:06:07.397857",
     "status": "completed"
    },
    "tags": []
   },
   "outputs": [
    {
     "data": {
      "image/png": "[encoded data removed]",
      "text/plain": [
       "<Figure size 1000x600 with 1 Axes>"
      ]
     },
     "metadata": {},
     "output_type": "display_data"
    }
   ],
   "source": [
    "mape_per_group = pd.Series({\n",
    "    'Warengruppe_1': 0.197225,\n",
    "    'Warengruppe_2': 0.163807,\n",
    "    'Warengruppe_3': 0.192119,\n",
    "    'Warengruppe_4': 0.220140,\n",
    "    'Warengruppe_5': 0.149874,\n",
    "    'Warengruppe_6': 0.473475\n",
    "})\n",
    "\n",
    "# Plotting\n",
    "plt.figure(figsize=(10, 6))\n",
    "bars = plt.bar(mape_per_group.index, mape_per_group.values)\n",
    "plt.axhline(0.3, color='red', linestyle='--', label='MAPE Threshold (0.3)')\n",
    "\n",
    "# Highlight bars with high MAPE\n",
    "for bar, val in zip(bars, mape_per_group.values):\n",
    "    if val > 0.3:\n",
    "        bar.set_color('red')\n",
    "\n",
    "# Labels and formatting\n",
    "plt.title('Validation MAPE per Product Group')\n",
    "plt.ylabel('MAPE')\n",
    "plt.xlabel('Product Group')\n",
    "plt.xticks(rotation=45)\n",
    "plt.ylim(0, max(mape_per_group.values) + 0.1)\n",
    "plt.legend()\n",
    "plt.tight_layout()\n",
    "plt.show()"
   ]
  },
  {
   "cell_type": "code",
   "execution_count": 9,
   "id": "d696233f",
   "metadata": {
    "execution": {
     "iopub.execute_input": "2025-07-28T19:06:07.879852Z",
     "iopub.status.busy": "2025-07-28T19:06:07.878579Z",
     "iopub.status.idle": "2025-07-28T19:06:07.889002Z",
     "shell.execute_reply": "2025-07-28T19:06:07.887621Z"
    },
    "papermill": {
     "duration": 0.054502,
     "end_time": "2025-07-28T19:06:07.891037",
     "exception": false,
     "start_time": "2025-07-28T19:06:07.836535",
     "status": "completed"
    },
    "tags": []
   },
   "outputs": [
    {
     "name": "stdout",
     "output_type": "stream",
     "text": [
      "Validation Performance Metrics:\n",
      "MAE (Mean Absolute Error): 35.16\n",
      "RMSE (Root Mean Squared Error): 56.92\n",
      "R² Score: 0.8085\n"
     ]
    }
   ],
   "source": [
    "# Flatten if needed (especially if arrays are 2D like (1841, 1))\n",
    "y_true = Y_val_cnn.flatten()\n",
    "y_pred = y_pred_cnn.flatten()\n",
    "\n",
    "# Calculate regression metrics\n",
    "mae = mean_absolute_error(y_true, y_pred)\n",
    "rmse = np.sqrt(mean_squared_error(y_true, y_pred))\n",
    "r2 = r2_score(y_true, y_pred)\n",
    "\n",
    "# Display results\n",
    "print(f\"Validation Performance Metrics:\")\n",
    "print(f\"MAE (Mean Absolute Error): {mae:.2f}\")\n",
    "print(f\"RMSE (Root Mean Squared Error): {rmse:.2f}\")\n",
    "print(f\"R² Score: {r2:.4f}\")"
   ]
  },
  {
   "cell_type": "code",
   "execution_count": 10,
   "id": "5184ff6b",
   "metadata": {
    "execution": {
     "iopub.execute_input": "2025-07-28T19:06:07.973949Z",
     "iopub.status.busy": "2025-07-28T19:06:07.973545Z",
     "iopub.status.idle": "2025-07-28T19:06:08.204611Z",
     "shell.execute_reply": "2025-07-28T19:06:08.203634Z"
    },
    "papermill": {
     "duration": 0.27426,
     "end_time": "2025-07-28T19:06:08.206365",
     "exception": false,
     "start_time": "2025-07-28T19:06:07.932105",
     "status": "completed"
    },
    "tags": []
   },
   "outputs": [
    {
     "data": {
      "image/png": "[encoded data removed]",
      "text/plain": [
       "<Figure size 800x600 with 1 Axes>"
      ]
     },
     "metadata": {},
     "output_type": "display_data"
    }
   ],
   "source": [
    "plt.figure(figsize=(8, 6))\n",
    "plt.plot(history.history['loss'], label='Training Loss')\n",
    "plt.plot(history.history['val_loss'], label='Validation Loss')\n",
    "plt.title('Model Loss During Training')\n",
    "plt.xlabel('Epoch')\n",
    "plt.ylabel('Loss')\n",
    "plt.legend()\n",
    "plt.grid(True)\n",
    "plt.show()"
   ]
  },
  {
   "cell_type": "code",
   "execution_count": 11,
   "id": "e209391b",
   "metadata": {
    "execution": {
     "iopub.execute_input": "2025-07-28T19:06:08.286676Z",
     "iopub.status.busy": "2025-07-28T19:06:08.286323Z",
     "iopub.status.idle": "2025-07-28T19:06:08.487834Z",
     "shell.execute_reply": "2025-07-28T19:06:08.486711Z"
    },
    "papermill": {
     "duration": 0.243469,
     "end_time": "2025-07-28T19:06:08.489482",
     "exception": false,
     "start_time": "2025-07-28T19:06:08.246013",
     "status": "completed"
    },
    "tags": []
   },
   "outputs": [
    {
     "name": "stdout",
     "output_type": "stream",
     "text": [
      "\u001b[1m58/58\u001b[0m \u001b[32m━━━━━━━━━━━━━━━━━━━━\u001b[0m\u001b[37m\u001b[0m \u001b[1m0s\u001b[0m 1ms/step\n"
     ]
    }
   ],
   "source": [
    "test_df_sm = sm.add_constant(test_df)\n",
    "test_input = test_df.values\n",
    "test_predictions = model.predict(test_input)"
   ]
  },
  {
   "cell_type": "code",
   "execution_count": 12,
   "id": "289b9632",
   "metadata": {
    "execution": {
     "iopub.execute_input": "2025-07-28T19:06:08.568116Z",
     "iopub.status.busy": "2025-07-28T19:06:08.567778Z",
     "iopub.status.idle": "2025-07-28T19:06:08.574530Z",
     "shell.execute_reply": "2025-07-28T19:06:08.573718Z"
    },
    "papermill": {
     "duration": 0.048043,
     "end_time": "2025-07-28T19:06:08.576096",
     "exception": false,
     "start_time": "2025-07-28T19:06:08.528053",
     "status": "completed"
    },
    "tags": []
   },
   "outputs": [
    {
     "data": {
      "text/plain": [
       "array([[132.27954],\n",
       "       [184.52429],\n",
       "       [ 76.45217],\n",
       "       ...,\n",
       "       [279.47287],\n",
       "       [ 71.47206],\n",
       "       [181.14966]], dtype=float32)"
      ]
     },
     "execution_count": 12,
     "metadata": {},
     "output_type": "execute_result"
    }
   ],
   "source": [
    "test_predictions"
   ]
  },
  {
   "cell_type": "code",
   "execution_count": 13,
   "id": "cb48d4a2",
   "metadata": {
    "execution": {
     "iopub.execute_input": "2025-07-28T19:06:08.662574Z",
     "iopub.status.busy": "2025-07-28T19:06:08.662251Z",
     "iopub.status.idle": "2025-07-28T19:06:08.667770Z",
     "shell.execute_reply": "2025-07-28T19:06:08.666763Z"
    },
    "papermill": {
     "duration": 0.051551,
     "end_time": "2025-07-28T19:06:08.669395",
     "exception": false,
     "start_time": "2025-07-28T19:06:08.617844",
     "status": "completed"
    },
    "tags": []
   },
   "outputs": [],
   "source": [
    "model_submission = pd.DataFrame({'id': test_id.squeeze(), 'umsatz': test_predictions.ravel()})"
   ]
  },
  {
   "cell_type": "code",
   "execution_count": 14,
   "id": "ad5653ef",
   "metadata": {
    "execution": {
     "iopub.execute_input": "2025-07-28T19:06:08.750775Z",
     "iopub.status.busy": "2025-07-28T19:06:08.750417Z",
     "iopub.status.idle": "2025-07-28T19:06:08.772024Z",
     "shell.execute_reply": "2025-07-28T19:06:08.771141Z"
    },
    "papermill": {
     "duration": 0.064127,
     "end_time": "2025-07-28T19:06:08.773813",
     "exception": false,
     "start_time": "2025-07-28T19:06:08.709686",
     "status": "completed"
    },
    "tags": []
   },
   "outputs": [
    {
     "data": {
      "text/html": [
       "<div>\n",
       "<style scoped>\n",
       "    .dataframe tbody tr th:only-of-type {\n",
       "        vertical-align: middle;\n",
       "    }\n",
       "\n",
       "    .dataframe tbody tr th {\n",
       "        vertical-align: top;\n",
       "    }\n",
       "\n",
       "    .dataframe thead th {\n",
       "        text-align: right;\n",
       "    }\n",
       "</style>\n",
       "<table border=\"1\" class=\"dataframe\">\n",
       "  <thead>\n",
       "    <tr style=\"text-align: right;\">\n",
       "      <th></th>\n",
       "      <th>id</th>\n",
       "      <th>umsatz</th>\n",
       "    </tr>\n",
       "  </thead>\n",
       "  <tbody>\n",
       "    <tr>\n",
       "      <th>0</th>\n",
       "      <td>1808011</td>\n",
       "      <td>132.279541</td>\n",
       "    </tr>\n",
       "    <tr>\n",
       "      <th>1</th>\n",
       "      <td>1808013</td>\n",
       "      <td>184.524292</td>\n",
       "    </tr>\n",
       "    <tr>\n",
       "      <th>2</th>\n",
       "      <td>1808014</td>\n",
       "      <td>76.452171</td>\n",
       "    </tr>\n",
       "    <tr>\n",
       "      <th>3</th>\n",
       "      <td>1808015</td>\n",
       "      <td>285.164124</td>\n",
       "    </tr>\n",
       "    <tr>\n",
       "      <th>4</th>\n",
       "      <td>1808012</td>\n",
       "      <td>424.237335</td>\n",
       "    </tr>\n",
       "    <tr>\n",
       "      <th>...</th>\n",
       "      <td>...</td>\n",
       "      <td>...</td>\n",
       "    </tr>\n",
       "    <tr>\n",
       "      <th>1825</th>\n",
       "      <td>1907301</td>\n",
       "      <td>127.945473</td>\n",
       "    </tr>\n",
       "    <tr>\n",
       "      <th>1826</th>\n",
       "      <td>1907302</td>\n",
       "      <td>428.169769</td>\n",
       "    </tr>\n",
       "    <tr>\n",
       "      <th>1827</th>\n",
       "      <td>1907305</td>\n",
       "      <td>279.472870</td>\n",
       "    </tr>\n",
       "    <tr>\n",
       "      <th>1828</th>\n",
       "      <td>1907304</td>\n",
       "      <td>71.472061</td>\n",
       "    </tr>\n",
       "    <tr>\n",
       "      <th>1829</th>\n",
       "      <td>1907303</td>\n",
       "      <td>181.149658</td>\n",
       "    </tr>\n",
       "  </tbody>\n",
       "</table>\n",
       "<p>1830 rows × 2 columns</p>\n",
       "</div>"
      ],
      "text/plain": [
       "           id      umsatz\n",
       "0     1808011  132.279541\n",
       "1     1808013  184.524292\n",
       "2     1808014   76.452171\n",
       "3     1808015  285.164124\n",
       "4     1808012  424.237335\n",
       "...       ...         ...\n",
       "1825  1907301  127.945473\n",
       "1826  1907302  428.169769\n",
       "1827  1907305  279.472870\n",
       "1828  1907304   71.472061\n",
       "1829  1907303  181.149658\n",
       "\n",
       "[1830 rows x 2 columns]"
      ]
     },
     "execution_count": 14,
     "metadata": {},
     "output_type": "execute_result"
    }
   ],
   "source": [
    "model_submission"
   ]
  },
  {
   "cell_type": "code",
   "execution_count": 15,
   "id": "ec796821",
   "metadata": {
    "execution": {
     "iopub.execute_input": "2025-07-28T19:06:08.856435Z",
     "iopub.status.busy": "2025-07-28T19:06:08.856083Z",
     "iopub.status.idle": "2025-07-28T19:06:08.870009Z",
     "shell.execute_reply": "2025-07-28T19:06:08.868972Z"
    },
    "papermill": {
     "duration": 0.057682,
     "end_time": "2025-07-28T19:06:08.871598",
     "exception": false,
     "start_time": "2025-07-28T19:06:08.813916",
     "status": "completed"
    },
    "tags": []
   },
   "outputs": [],
   "source": [
    "model_submission.to_csv('model_submission.csv', index=False)"
   ]
  },
  {
   "cell_type": "markdown",
   "id": "fc4511f2",
   "metadata": {
    "papermill": {
     "duration": 0.066819,
     "end_time": "2025-07-28T19:06:08.979946",
     "exception": false,
     "start_time": "2025-07-28T19:06:08.913127",
     "status": "completed"
    },
    "tags": []
   },
   "source": [
    "## Comparative Analysis"
   ]
  },
  {
   "cell_type": "markdown",
   "id": "ad284683",
   "metadata": {
    "papermill": {
     "duration": 0.042074,
     "end_time": "2025-07-28T19:06:09.063132",
     "exception": false,
     "start_time": "2025-07-28T19:06:09.021058",
     "status": "completed"
    },
    "tags": []
   },
   "source": [
    "| Metric | Baseline Model | Deep Learning Model |\n",
    "|--------|----------------|---------------------|\n",
    "| R²     | 0.7220         | 0.8106              |\n",
    "| MAPE   | 0.33           | 0.19                |"
   ]
  }
 ],
 "metadata": {
  "kaggle": {
   "accelerator": "none",
   "dataSources": [
    {
     "datasetId": 7960757,
     "sourceId": 12603311,
     "sourceType": "datasetVersion"
    },
    {
     "datasetId": 7960775,
     "sourceId": 12603338,
     "sourceType": "datasetVersion"
    },
    {
     "datasetId": 7961067,
     "sourceId": 12603758,
     "sourceType": "datasetVersion"
    }
   ],
   "dockerImageVersionId": 31089,
   "isGpuEnabled": false,
   "isInternetEnabled": true,
   "language": "python",
   "sourceType": "notebook"
  },
  "kernelspec": {
   "display_name": "Python 3",
   "language": "python",
   "name": "python3"
  },
  "language_info": {
   "codemirror_mode": {
    "name": "ipython",
    "version": 3
   },
   "file_extension": ".py",
   "mimetype": "text/x-python",
   "name": "python",
   "nbconvert_exporter": "python",
   "pygments_lexer": "ipython3",
   "version": "3.11.13"
  },
  "papermill": {
   "default_parameters": {},
   "duration": 75.242003,
   "end_time": "2025-07-28T19:06:12.183535",
   "environment_variables": {},
   "exception": null,
   "input_path": "__notebook__.ipynb",
   "output_path": "__notebook__.ipynb",
   "parameters": {},
   "start_time": "2025-07-28T19:04:56.941532",
   "version": "2.6.0"
  }
 },
 "nbformat": 4,
 "nbformat_minor": 5
}
